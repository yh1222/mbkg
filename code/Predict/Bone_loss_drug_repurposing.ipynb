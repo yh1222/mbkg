{
 "cells": [
  {
   "cell_type": "code",
   "execution_count": 1,
   "metadata": {},
   "outputs": [],
   "source": [
    "# Bone loss related medical terms\n",
    "bone_loss_list = [\n",
    "    'MESH:D001851',  # Bone Diseases, Metabolic\n",
    "    'MESH:D010024',  # Osteoporosis\n",
    "    'MESH:D015663',  # Osteoporosis, Postmenopausal\n",
    "    'MESH:C537700',  # Juvenile osteoporosis\n",
    "]"
   ]
  },
  {
   "cell_type": "code",
   "execution_count": 2,
   "metadata": {},
   "outputs": [],
   "source": [
    "# All chemicals as candidate drugs\n",
    "import pandas as pd\n",
    "\n",
    "# general drug\n",
    "DDinter_df = pd.read_csv(\"D:/projects/MGKG/data/DDinter/DDinter_triplets.csv\", sep='\\t', header=None)\n",
    "DrugBank_df = pd.read_csv(\"D:/projects/MGKG/data/DrugBank/DrugBank_triplets.csv\", sep='\\t', header=None)\n",
    "GNBR_df1 = pd.read_csv(\"D:/projects/MGKG/data/GNBR/chemical_disease_triplets2.csv\", sep='\\t', header=None)\n",
    "GNBR_df2 = pd.read_csv(\"D:/projects/MGKG/data/GNBR/chemical_gene_triplets2.csv\", sep='\\t', header=None)\n",
    "STITCH_df = pd.read_csv(\"D:/projects/MGKG/data/STITCH/STITCH_triplets2.csv\", sep='\\t', header=None)\n",
    "FreeText_df1 = pd.read_csv(\"D:/projects/MGKG/data/FreeText/chemical_disease_triplets.csv\", sep='\\t', header=None)\n",
    "FreeText_df2 = pd.read_csv(\"D:/projects/MGKG/data/FreeText/chemical_gene_triplets.csv\", sep='\\t', header=None)\n",
    "general_drug_df = pd.concat([DDinter_df[0], DDinter_df[2], DrugBank_df[0], GNBR_df1[0], GNBR_df2[0], STITCH_df[0], FreeText_df1[0], FreeText_df2[0]])\n",
    "general_drug_df.drop_duplicates(inplace=True)  # 36133\n",
    "general_drug_df.rename('entity', inplace=True)\n",
    "general_drug_list = general_drug_df.values.tolist()  # 36133\n",
    "\n",
    "# traditional chinese medicine\n",
    "TCMID_df = pd.read_csv(\"D:/projects/MGKG/data/TCMID/TCMID_triplets.csv\", sep='\\t', header=None)\n",
    "tcm_drug_df = TCMID_df[0]\n",
    "tcm_drug_df.drop_duplicates(inplace=True)  # 3004\n",
    "tcm_drug_df.rename('entity', inplace=True)\n",
    "tcm_drug_list = tcm_drug_df.values.tolist()  # 3004"
   ]
  },
  {
   "cell_type": "code",
   "execution_count": 3,
   "metadata": {},
   "outputs": [],
   "source": [
    "# All relationship related to treatment\n",
    "treatment = ['chemical:disease:T',\n",
    "             'chemical:disease:Pr',\n",
    "             'chemical:disease:Pa']"
   ]
  },
  {
   "cell_type": "code",
   "execution_count": 4,
   "metadata": {},
   "outputs": [],
   "source": [
    "# Load entity & relation in pretrained model\n",
    "entitiy_df = pd.read_table(\"D:/projects/MGKG/code/Train/TransE_l2/entities.tsv\", sep='\\t', header=None, names=['id', 'entity'])\n",
    "relation_df = pd.read_table(\"D:/projects/MGKG/code/Train/TransE_l2/relations.tsv\", sep='\\t', header=None, names=['id', 'rel'])"
   ]
  },
  {
   "cell_type": "code",
   "execution_count": 5,
   "metadata": {},
   "outputs": [],
   "source": [
    "# ID mapping\n",
    "general_drug_df = pd.merge(general_drug_df, entitiy_df, on='entity')\n",
    "tcm_drug_df = pd.merge(tcm_drug_df, entitiy_df, on='entity')\n",
    "\n",
    "treatment_df = pd.merge(pd.DataFrame(treatment, columns=['rel']), relation_df)\n",
    "\n",
    "disease_df = pd.merge(pd.DataFrame(bone_loss_list, columns=['entity']), entitiy_df)"
   ]
  },
  {
   "cell_type": "code",
   "execution_count": null,
   "metadata": {},
   "outputs": [],
   "source": [
    "# Load embeddings\n",
    "import torch\n",
    "import numpy as np\n",
    "\n",
    "entity_emb = np.load(\"D:/projects/MGKG/code/ckpts/TransE_l2_MGKG_0/MGKG_TransE_l2_entity.npy\")\n",
    "rel_emb = np.load(\"D:/projects/MGKG/code/ckpts/TransE_l2_MGKG_0/MGKG_TransE_l2_relation.npy\")\n",
    "\n",
    "general_drug_ids = torch.tensor(general_drug_df['id'].values.tolist())\n",
    "tcm_drug_ids = torch.tensor(tcm_drug_df['id'].values.tolist())\n",
    "treatment_ids = torch.tensor(treatment_df['id'].values.tolist())\n",
    "disease_ids = torch.tensor(disease_df['id'].values.tolist())\n",
    "\n",
    "general_drug_embs = torch.tensor(entity_emb[general_drug_ids])\n",
    "tcm_drug_embs = torch.tensor(entity_emb[tcm_drug_ids])\n",
    "treatment_embs = [torch.tensor(rel_emb[rid]) for rid in treatment_ids]"
   ]
  },
  {
   "attachments": {},
   "cell_type": "markdown",
   "metadata": {},
   "source": [
    "## Drug Repurposing Based on Edge Score\n",
    "We use following algorithm to calculate the edge score. Note, here we use logsigmiod to make all scores < 0. The larger the score is, the stronger the $h$ will have $r$ with $t$.\n",
    "\n",
    "$\\mathbf{d} = \\gamma - ||\\mathbf{h}+\\mathbf{r}-\\mathbf{t}||_{2}$\n",
    "\n",
    "$\\mathbf{score} = \\log\\left(\\frac{1}{1+\\exp(\\mathbf{-d})}\\right)$\n",
    "\n",
    "When doing drug repurposing, we only use the treatment related relations."
   ]
  },
  {
   "cell_type": "code",
   "execution_count": null,
   "metadata": {},
   "outputs": [],
   "source": [
    "import torch.nn.functional as F\n",
    "\n",
    "gamma = 12.0  # 模型训练时使用的γ值\n",
    "\n",
    "\n",
    "def transE_l2(head, rel, tail):\n",
    "    score = head + rel - tail\n",
    "    return gamma - torch.norm(score, p=2, dim=-1)\n",
    "\n",
    "\n",
    "# 下面可以写成一个循环，但为了便于查看，写成了两个循环\n",
    "# general_drug 大部分都是西药，可能包含一些中药成分\n",
    "general_drugs = []\n",
    "scores_per_disease = []\n",
    "for rid in range(len(treatment_embs)):\n",
    "    treatment_emb = treatment_embs[rid]\n",
    "    for disease_id in disease_ids:\n",
    "        disease_emb = entity_emb[disease_id]\n",
    "        score = F.logsigmoid(transE_l2(general_drug_embs, treatment_emb, disease_emb))\n",
    "        scores_per_disease.append(score)\n",
    "        general_drugs.append(general_drug_ids)\n",
    "general_drugs_scores = torch.cat(scores_per_disease)\n",
    "general_drugs = torch.cat(general_drugs)\n",
    "\n",
    "# 中药\n",
    "tcm_drugs = []\n",
    "scores_per_disease = []\n",
    "for rid in range(len(treatment_embs)):\n",
    "    treatment_emb = treatment_embs[rid]\n",
    "    for disease_id in disease_ids:\n",
    "        disease_emb = entity_emb[disease_id]\n",
    "        score = F.logsigmoid(transE_l2(tcm_drug_embs, treatment_emb, disease_emb))\n",
    "        scores_per_disease.append(score)\n",
    "        tcm_drugs.append(tcm_drug_ids)\n",
    "tcm_drugs_scores = torch.cat(scores_per_disease)\n",
    "tcm_drugs = torch.cat(tcm_drugs)"
   ]
  },
  {
   "cell_type": "code",
   "execution_count": null,
   "metadata": {},
   "outputs": [],
   "source": [
    "# sort scores in decending order\n",
    "general_drugs_idx = torch.argsort(general_drugs_scores, descending=True)\n",
    "general_drugs_scores = general_drugs_scores[general_drugs_idx].numpy()\n",
    "general_drugs = general_drugs[general_drugs_idx].numpy()\n",
    "\n",
    "tcm_drugs_idx = torch.argsort(tcm_drugs_scores, descending=True)\n",
    "tcm_drugs_scores = tcm_drugs_scores[tcm_drugs_idx].numpy()\n",
    "tcm_drugs = tcm_drugs[tcm_drugs_idx].numpy()"
   ]
  },
  {
   "cell_type": "code",
   "execution_count": null,
   "metadata": {},
   "outputs": [],
   "source": [
    "# select top 100\n",
    "topk=100\n",
    "\n",
    "_, general_drugs_unique_idx = np.unique(general_drugs, return_index=True)\n",
    "general_drugs_topk_idx = np.sort(general_drugs_unique_idx)[:topk]\n",
    "proposed_general_drugs_ids = general_drugs[general_drugs_topk_idx]\n",
    "proposed_general_drugs_scores = general_drugs_scores[general_drugs_topk_idx]\n",
    "\n",
    "_, tcm_drugs_unique_idx = np.unique(tcm_drugs, return_index=True)\n",
    "tcm_drugs_topk_idx = np.sort(tcm_drugs_unique_idx)[:topk]\n",
    "proposed_tcm_drugs_ids = tcm_drugs[tcm_drugs_topk_idx]\n",
    "proposed_tcm_drugs_scores = tcm_drugs_scores[tcm_drugs_topk_idx]"
   ]
  },
  {
   "cell_type": "code",
   "execution_count": null,
   "metadata": {},
   "outputs": [],
   "source": [
    "# save predict results\n",
    "wmd_id = pd.DataFrame(proposed_general_drugs_ids, columns=['id'])\n",
    "tcm_id = pd.DataFrame(proposed_tcm_drugs_ids, columns=['id'])\n",
    "modern_medicine = pd.merge(wmd_id, general_drug_df)\n",
    "traditional_Chinese_medicine = pd.merge(tcm_id, tcm_drug_df)\n",
    "modern_medicine['score'] = proposed_general_drugs_scores\n",
    "traditional_Chinese_medicine['score'] = proposed_tcm_drugs_scores\n",
    "modern_medicine.drop('id', axis=1, inplace=True)\n",
    "traditional_Chinese_medicine.drop('id', axis=1, inplace=True)\n",
    "\n",
    "modern_medicine.to_csv('D:/projects/MGKG/code/Predict/modern_medicine.csv', sep='\\t', header=0, index=0)\n",
    "traditional_Chinese_medicine.to_csv('D:/projects/MGKG/code/Predict/traditional_Chinese_medicine.csv', sep='\\t', header=0, index=0)"
   ]
  },
  {
   "cell_type": "code",
   "execution_count": null,
   "metadata": {},
   "outputs": [],
   "source": []
  }
 ],
 "metadata": {
  "kernelspec": {
   "display_name": "space_bio",
   "language": "python",
   "name": "python3"
  },
  "language_info": {
   "codemirror_mode": {
    "name": "ipython",
    "version": 3
   },
   "file_extension": ".py",
   "mimetype": "text/x-python",
   "name": "python",
   "nbconvert_exporter": "python",
   "pygments_lexer": "ipython3",
   "version": "3.10.6"
  },
  "orig_nbformat": 4
 },
 "nbformat": 4,
 "nbformat_minor": 2
}
