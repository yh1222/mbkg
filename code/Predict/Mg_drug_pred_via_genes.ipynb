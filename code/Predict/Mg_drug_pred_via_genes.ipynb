{
 "cells": [
  {
   "cell_type": "code",
   "execution_count": 1,
   "metadata": {},
   "outputs": [],
   "source": [
    "# All chemicals as candidate drugs\n",
    "import pandas as pd\n",
    "import numpy as np\n",
    "\n",
    "# general drug\n",
    "DDinter_df = pd.read_csv(\"D:/projects/MBKG/data/结构化&半结构化/DDinter/DDinter_triplets.csv\", sep='\\t', header=None)\n",
    "DrugBank_df = pd.read_csv(\"D:/projects/MBKG/data/结构化&半结构化/DrugBank/DrugBank_triplets.csv\", sep='\\t', header=None)\n",
    "GNBR_df1 = pd.read_csv(\"D:/projects/MBKG/data/结构化&半结构化/GNBR/chemical_disease_triplets2.csv\", sep='\\t', header=None)\n",
    "GNBR_df2 = pd.read_csv(\"D:/projects/MBKG/data/结构化&半结构化/GNBR/chemical_gene_triplets2.csv\", sep='\\t', header=None)\n",
    "STITCH_df = pd.read_csv(\"D:/projects/MBKG/data/结构化&半结构化/STITCH/STITCH_triplets2.csv\", sep='\\t', header=None)\n",
    "FreeText_df1 = pd.read_csv(\"D:/projects/MBKG/data/FreeText/chemical_disease_triplets.csv\", sep='\\t', header=None)\n",
    "FreeText_df2 = pd.read_csv(\"D:/projects/MBKG/data/FreeText/chemical_gene_triplets.csv\", sep='\\t', header=None)\n",
    "general_drug_df = pd.concat([DDinter_df[0], DDinter_df[2], DrugBank_df[0], GNBR_df1[0], GNBR_df2[0], STITCH_df[0], FreeText_df1[0], FreeText_df2[0]])\n",
    "general_drug_df.drop_duplicates(inplace=True)  # 36133\n",
    "general_drug_df.rename('entity', inplace=True)\n",
    "general_drug_list = general_drug_df.values.tolist()  # 36133\n",
    "\n",
    "# traditional chinese medicine\n",
    "TCMID_df = pd.read_csv(\"D:/projects/MBKG/data/结构化&半结构化/TCMID/TCMID_triplets.csv\", sep='\\t', header=None)\n",
    "tcm_drug_df = TCMID_df[0]\n",
    "tcm_drug_df.drop_duplicates(inplace=True)  # 3004\n",
    "tcm_drug_df.rename('entity', inplace=True)\n",
    "tcm_drug_list = tcm_drug_df.values.tolist()  # 3004"
   ]
  },
  {
   "cell_type": "code",
   "execution_count": 2,
   "metadata": {},
   "outputs": [
    {
     "name": "stdout",
     "output_type": "stream",
     "text": [
      "94\n"
     ]
    }
   ],
   "source": [
    "# Extract all genes possibly associated with bone loss from literature related to both microgravity and bone loss\n",
    "genes = pd.read_csv('mg_bone_loss_related_genes.csv', sep='\\t', header=None)\n",
    "genes.drop_duplicates(inplace=True)\n",
    "genes_list = genes.values[:, 0].tolist()\n",
    "print(len(genes_list))"
   ]
  },
  {
   "cell_type": "code",
   "execution_count": 3,
   "metadata": {},
   "outputs": [],
   "source": [
    "treatment = ['chemical:gene:A+', 'chemical:gene:E+']"
   ]
  },
  {
   "cell_type": "code",
   "execution_count": 4,
   "metadata": {},
   "outputs": [],
   "source": [
    "# Load entity & relation in pretrained model\n",
    "entitiy_df = pd.read_table(\"D:/projects/MBKG/code/Train/TransE_l2/entities.tsv\", sep='\\t', header=None, names=['id', 'entity'])\n",
    "relation_df = pd.read_table(\"D:/projects/MBKG/code/Train/TransE_l2/relations.tsv\", sep='\\t', header=None, names=['id', 'rel'])"
   ]
  },
  {
   "cell_type": "code",
   "execution_count": 5,
   "metadata": {},
   "outputs": [],
   "source": [
    "# ID mapping\n",
    "general_drug_df = pd.merge(general_drug_df, entitiy_df, on='entity')\n",
    "tcm_drug_df = pd.merge(tcm_drug_df, entitiy_df, on='entity')\n",
    "\n",
    "treatment_df = pd.merge(pd.DataFrame(treatment, columns=['rel']), relation_df)\n",
    "\n",
    "genes_df = pd.merge(pd.DataFrame(genes_list, columns=['entity']), entitiy_df)"
   ]
  },
  {
   "cell_type": "code",
   "execution_count": 52,
   "metadata": {},
   "outputs": [
    {
     "data": {
      "text/html": [
       "<div>\n",
       "<style scoped>\n",
       "    .dataframe tbody tr th:only-of-type {\n",
       "        vertical-align: middle;\n",
       "    }\n",
       "\n",
       "    .dataframe tbody tr th {\n",
       "        vertical-align: top;\n",
       "    }\n",
       "\n",
       "    .dataframe thead th {\n",
       "        text-align: right;\n",
       "    }\n",
       "</style>\n",
       "<table border=\"1\" class=\"dataframe\">\n",
       "  <thead>\n",
       "    <tr style=\"text-align: right;\">\n",
       "      <th></th>\n",
       "      <th>entity</th>\n",
       "      <th>id</th>\n",
       "    </tr>\n",
       "  </thead>\n",
       "  <tbody>\n",
       "    <tr>\n",
       "      <th>0</th>\n",
       "      <td>ENTREZ:81668</td>\n",
       "      <td>39646</td>\n",
       "    </tr>\n",
       "    <tr>\n",
       "      <th>1</th>\n",
       "      <td>ENTREZ:3486</td>\n",
       "      <td>3395</td>\n",
       "    </tr>\n",
       "    <tr>\n",
       "      <th>2</th>\n",
       "      <td>ENTREZ:632</td>\n",
       "      <td>3371</td>\n",
       "    </tr>\n",
       "    <tr>\n",
       "      <th>3</th>\n",
       "      <td>ENTREZ:25295</td>\n",
       "      <td>44851</td>\n",
       "    </tr>\n",
       "    <tr>\n",
       "      <th>4</th>\n",
       "      <td>ENTREZ:5741</td>\n",
       "      <td>38120</td>\n",
       "    </tr>\n",
       "    <tr>\n",
       "      <th>...</th>\n",
       "      <td>...</td>\n",
       "      <td>...</td>\n",
       "    </tr>\n",
       "    <tr>\n",
       "      <th>88</th>\n",
       "      <td>ENTREZ:66026</td>\n",
       "      <td>38101</td>\n",
       "    </tr>\n",
       "    <tr>\n",
       "      <th>89</th>\n",
       "      <td>ENTREZ:18477</td>\n",
       "      <td>40017</td>\n",
       "    </tr>\n",
       "    <tr>\n",
       "      <th>90</th>\n",
       "      <td>ENTREZ:109648</td>\n",
       "      <td>42120</td>\n",
       "    </tr>\n",
       "    <tr>\n",
       "      <th>91</th>\n",
       "      <td>ENTREZ:21823</td>\n",
       "      <td>39709</td>\n",
       "    </tr>\n",
       "    <tr>\n",
       "      <th>92</th>\n",
       "      <td>ENTREZ:3558</td>\n",
       "      <td>981</td>\n",
       "    </tr>\n",
       "  </tbody>\n",
       "</table>\n",
       "<p>93 rows × 2 columns</p>\n",
       "</div>"
      ],
      "text/plain": [
       "           entity     id\n",
       "0    ENTREZ:81668  39646\n",
       "1     ENTREZ:3486   3395\n",
       "2      ENTREZ:632   3371\n",
       "3    ENTREZ:25295  44851\n",
       "4     ENTREZ:5741  38120\n",
       "..            ...    ...\n",
       "88   ENTREZ:66026  38101\n",
       "89   ENTREZ:18477  40017\n",
       "90  ENTREZ:109648  42120\n",
       "91   ENTREZ:21823  39709\n",
       "92    ENTREZ:3558    981\n",
       "\n",
       "[93 rows x 2 columns]"
      ]
     },
     "execution_count": 52,
     "metadata": {},
     "output_type": "execute_result"
    }
   ],
   "source": [
    "genes_df"
   ]
  },
  {
   "cell_type": "code",
   "execution_count": 8,
   "metadata": {},
   "outputs": [],
   "source": [
    "# Load embeddings\n",
    "import torch\n",
    "import numpy as np\n",
    "\n",
    "entity_emb = np.load(\"D:/projects/MBKG/code/ckpts/TransE_l2_MGKG_0/MGKG_TransE_l2_entity.npy\")\n",
    "rel_emb = np.load(\"D:/projects/MBKG/code/ckpts/TransE_l2_MGKG_0/MGKG_TransE_l2_relation.npy\")\n",
    "\n",
    "general_drug_ids = torch.tensor(general_drug_df['id'].values.tolist())\n",
    "tcm_drug_ids = torch.tensor(tcm_drug_df['id'].values.tolist())\n",
    "treatment_ids = torch.tensor(treatment_df['id'].values.tolist())\n",
    "genes_ids = torch.tensor(genes_df['id'].values.tolist())\n",
    "\n",
    "general_drug_embs = torch.tensor(entity_emb[general_drug_ids])\n",
    "tcm_drug_embs = torch.tensor(entity_emb[tcm_drug_ids])\n",
    "treatment_embs = [torch.tensor(rel_emb[rid]) for rid in treatment_ids]"
   ]
  },
  {
   "cell_type": "markdown",
   "metadata": {},
   "source": [
    "## Drug Repurposing Based on Edge Score\n",
    "We use following algorithm to calculate the edge score. Note, here we use logsigmiod to make all scores < 0. The larger the score is, the stronger the $h$ will have $r$ with $t$.\n",
    "\n",
    "$\\mathbf{d} = \\gamma - ||\\mathbf{h}+\\mathbf{r}-\\mathbf{t}||_{2}$\n",
    "\n",
    "$\\mathbf{score} = \\log\\left(\\frac{1}{1+\\exp(\\mathbf{-d})}\\right)$\n",
    "\n",
    "When doing drug repurposing, we only use the treatment related relations."
   ]
  },
  {
   "cell_type": "code",
   "execution_count": 15,
   "metadata": {},
   "outputs": [],
   "source": [
    "import torch.nn.functional as F\n",
    "\n",
    "gamma = 12.0  # 模型训练时使用的γ值\n",
    "\n",
    "\n",
    "def transE_l2(head, rel, tail):\n",
    "    score = head + rel - tail\n",
    "    return gamma - torch.norm(score, p=2, dim=-1)"
   ]
  },
  {
   "cell_type": "markdown",
   "metadata": {},
   "source": [
    "### western medicine"
   ]
  },
  {
   "cell_type": "code",
   "execution_count": 48,
   "metadata": {},
   "outputs": [],
   "source": [
    "# general_drug 大部分都是西药，可能包含一些中药成分\n",
    "general_drugs_per_gene = []\n",
    "general_scores_per_gene = []\n",
    "\n",
    "for gene_id in genes_ids:\n",
    "    gene_emb = entity_emb[gene_id]\n",
    "    drugs_per_treat = []\n",
    "    scores_per_treat = []\n",
    "    for rid in range(len(treatment_embs)):\n",
    "        treatment_emb = treatment_embs[rid]\n",
    "        score = F.logsigmoid(transE_l2(general_drug_embs, treatment_emb, gene_emb))\n",
    "        scores_per_treat.append(score)\n",
    "        drugs_per_treat.append(general_drug_ids)\n",
    "    general_drugs_per_gene.append(torch.cat(drugs_per_treat))\n",
    "    general_scores_per_gene.append(torch.cat(scores_per_treat))"
   ]
  },
  {
   "cell_type": "code",
   "execution_count": 86,
   "metadata": {},
   "outputs": [],
   "source": [
    "# sort scores in decending order\n",
    "for i in range(len(general_scores_per_gene)):\n",
    "    scores = general_scores_per_gene[i]\n",
    "    drugs = general_drugs_per_gene[i]\n",
    "    scores = scores.clone().detach()\n",
    "    drugs_idx = torch.argsort(scores, descending=True)\n",
    "    sort_scores = scores[drugs_idx].numpy()\n",
    "    sort_drugs = drugs[drugs_idx].numpy()\n",
    "    gene = genes_df.iloc[i, 0]\n",
    "\n",
    "    # select top 100\n",
    "    topk=100\n",
    "\n",
    "    _, general_drugs_unique_idx = np.unique(sort_drugs, return_index=True)\n",
    "    general_drugs_topk_idx = np.sort(general_drugs_unique_idx)[:topk]\n",
    "    proposed_general_drugs_ids = sort_drugs[general_drugs_topk_idx]\n",
    "    proposed_general_drugs = []\n",
    "    for id in proposed_general_drugs_ids:\n",
    "        proposed_general_drugs.append(general_drug_df.loc[general_drug_df['id'] == id, 'entity'].values[0])\n",
    "    proposed_general_drugs_scores = sort_scores[general_drugs_topk_idx]\n",
    "    with open('modern_medicine_via_genes.csv', 'a+') as f:\n",
    "        f.write(gene + '\\n')\n",
    "        for d, s in zip(proposed_general_drugs, proposed_general_drugs_scores):\n",
    "            f.write(f\"{d}\\t{s}\\n\")\n",
    "        f.write('\\n')"
   ]
  },
  {
   "cell_type": "markdown",
   "metadata": {},
   "source": [
    "### herb"
   ]
  },
  {
   "cell_type": "code",
   "execution_count": 87,
   "metadata": {},
   "outputs": [],
   "source": [
    "tcm_drugs_per_gene = []\n",
    "tcm_scores_per_gene = []\n",
    "\n",
    "for gene_id in genes_ids:\n",
    "    gene_emb = entity_emb[gene_id]\n",
    "    drugs_per_treat = []\n",
    "    scores_per_treat = []\n",
    "    for rid in range(len(treatment_embs)):\n",
    "        treatment_emb = treatment_embs[rid]\n",
    "        score = F.logsigmoid(transE_l2(tcm_drug_embs, treatment_emb, gene_emb))\n",
    "        scores_per_treat.append(score)\n",
    "        drugs_per_treat.append(tcm_drug_ids)\n",
    "    tcm_drugs_per_gene.append(torch.cat(drugs_per_treat))\n",
    "    tcm_scores_per_gene.append(torch.cat(scores_per_treat))\n",
    "\n",
    "# sort scores in decending order\n",
    "for i in range(len(tcm_scores_per_gene)):\n",
    "    scores = tcm_scores_per_gene[i]\n",
    "    drugs = tcm_drugs_per_gene[i]\n",
    "    scores = scores.clone().detach()\n",
    "    drugs_idx = torch.argsort(scores, descending=True)\n",
    "    sort_scores = scores[drugs_idx].numpy()\n",
    "    sort_drugs = drugs[drugs_idx].numpy()\n",
    "    gene = genes_df.iloc[i, 0]\n",
    "\n",
    "    # select top 100\n",
    "    topk=100\n",
    "\n",
    "    _, tcm_drugs_unique_idx = np.unique(sort_drugs, return_index=True)\n",
    "    tcm_drugs_topk_idx = np.sort(tcm_drugs_unique_idx)[:topk]\n",
    "    proposed_tcm_drugs_ids = sort_drugs[tcm_drugs_topk_idx]\n",
    "    proposed_tcm_drugs = []\n",
    "    for id in proposed_tcm_drugs_ids:\n",
    "        proposed_tcm_drugs.append(tcm_drug_df.loc[tcm_drug_df['id'] == id, 'entity'].values[0])\n",
    "    proposed_tcm_drugs_scores = sort_scores[tcm_drugs_topk_idx]\n",
    "    with open('traditional_Chinese_medicine_via_genes.csv', 'a+') as f:\n",
    "        f.write(gene + '\\n')\n",
    "        for d, s in zip(proposed_tcm_drugs, proposed_tcm_drugs_scores):\n",
    "            f.write(f\"{d}\\t{s}\\n\")\n",
    "        f.write('\\n')"
   ]
  },
  {
   "cell_type": "code",
   "execution_count": null,
   "metadata": {},
   "outputs": [],
   "source": []
  }
 ],
 "metadata": {
  "kernelspec": {
   "display_name": "BLC",
   "language": "python",
   "name": "python3"
  },
  "language_info": {
   "codemirror_mode": {
    "name": "ipython",
    "version": 3
   },
   "file_extension": ".py",
   "mimetype": "text/x-python",
   "name": "python",
   "nbconvert_exporter": "python",
   "pygments_lexer": "ipython3",
   "version": "3.9.16"
  }
 },
 "nbformat": 4,
 "nbformat_minor": 2
}
