{
 "cells": [
  {
   "cell_type": "code",
   "execution_count": 1,
   "metadata": {},
   "outputs": [],
   "source": [
    "import os\n",
    "import pandas as pd\n",
    "import numpy as np\n",
    "import glob\n",
    "\n",
    "# Due to GitHub's upload capacity limitations\n",
    "# the GNBR source data needs to be downloaded from\n",
    "# https://zenodo.org/record/3459420 on your own.\n",
    "dir_path = 'E:/Projects/MBKG/database/GNBR'"
   ]
  },
  {
   "cell_type": "code",
   "execution_count": 2,
   "metadata": {},
   "outputs": [],
   "source": [
    "def get_file_path():\n",
    "    part1_paths = glob.glob(os.path.join(dir_path, 'part-i-*.txt'))\n",
    "    part2_paths = glob.glob(os.path.join(dir_path, 'part-ii-*-with-themes.txt'))\n",
    "    part1_paths = sorted(part1_paths)\n",
    "    part2_paths = sorted(part2_paths)\n",
    "    return part1_paths, part2_paths"
   ]
  },
  {
   "cell_type": "code",
   "execution_count": 3,
   "metadata": {},
   "outputs": [],
   "source": [
    "def read_part_i(file_path):\n",
    "    '''读取part-i文件, 并提取出依存路径对应的theme'''\n",
    "    theme = pd.read_table(file_path, sep='\\t', header=None, nrows=1)\n",
    "    ncols = theme.shape[1]\n",
    "    selected_cols = [0] + [i for i in range(1, ncols, 2)]\n",
    "    theme = pd.read_table(file_path, sep='\\t', header=0, usecols=selected_cols)\n",
    "    theme['theme'] = theme.iloc[:, 1:].idxmax(axis=1)\n",
    "    theme = theme.loc[:, ['path', 'theme']]\n",
    "    return theme"
   ]
  },
  {
   "cell_type": "code",
   "execution_count": 4,
   "metadata": {},
   "outputs": [],
   "source": [
    "def read_part_ii(file_path):\n",
    "    '''读取part-ii文件, 并提取出实体对(id)及其对应的依存路径'''\n",
    "    dp = pd.read_table(file_path, sep='\\t', header=None, usecols=[6, 7, 8, 9, 12])\n",
    "    dp.dropna(axis=0, how='any', inplace=True)\n",
    "    dp.columns = ['head_name', 'tail_name', 'start_entity', 'end_entity', 'path']\n",
    "    return dp"
   ]
  },
  {
   "cell_type": "code",
   "execution_count": 5,
   "metadata": {},
   "outputs": [],
   "source": [
    "def match_dp_theme(theme, dp):\n",
    "    '''匹配依存路径和theme, 注意part-i和ii中的start_entity和end_entity的大小写不一样, 因此比对时需要忽略大小写'''\n",
    "    theme['path'] = theme['path'].str.lower()\n",
    "    dp['path'] = dp['path'].str.lower()\n",
    "    match_df = pd.merge(dp, theme, on='path')\n",
    "    return match_df"
   ]
  },
  {
   "cell_type": "code",
   "execution_count": 6,
   "metadata": {},
   "outputs": [
    {
     "name": "stdout",
     "output_type": "stream",
     "text": [
      "Batch-0\n",
      "part-i file: E:/Projects/MBKG/database/GNBR\\part-i-chemical-disease-path-theme-distributions.txt\n",
      "part-ii file: E:/Projects/MBKG/database/GNBR\\part-ii-dependency-paths-chemical-disease-sorted-with-themes.txt\n",
      "---------Batch-0 over---------\n",
      "Batch-1\n",
      "part-i file: E:/Projects/MBKG/database/GNBR\\part-i-chemical-gene-path-theme-distributions.txt\n",
      "part-ii file: E:/Projects/MBKG/database/GNBR\\part-ii-dependency-paths-chemical-gene-sorted-with-themes.txt\n",
      "---------Batch-1 over---------\n",
      "Batch-2\n",
      "part-i file: E:/Projects/MBKG/database/GNBR\\part-i-gene-disease-path-theme-distributions.txt\n",
      "part-ii file: E:/Projects/MBKG/database/GNBR\\part-ii-dependency-paths-gene-disease-sorted-with-themes.txt\n",
      "---------Batch-2 over---------\n",
      "Batch-3\n",
      "part-i file: E:/Projects/MBKG/database/GNBR\\part-i-gene-gene-path-theme-distributions.txt\n",
      "part-ii file: E:/Projects/MBKG/database/GNBR\\part-ii-dependency-paths-gene-gene-sorted-with-themes.txt\n",
      "---------Batch-3 over---------\n"
     ]
    }
   ],
   "source": [
    "part1_paths, part2_paths = get_file_path()\n",
    "for i in range(4):\n",
    "    part1 = part1_paths[i]\n",
    "    part2 = part2_paths[i]\n",
    "    print(f'Batch-{i}')\n",
    "    print(f'part-i file: {part1}')\n",
    "    print(f'part-ii file: {part2}')\n",
    "    theme = read_part_i(part1)\n",
    "    dp = read_part_ii(part2)\n",
    "    if i == 0:\n",
    "        match_df1 = match_dp_theme(theme, dp)\n",
    "    if i == 1:\n",
    "        match_df2 = match_dp_theme(theme, dp)\n",
    "    if i == 2:\n",
    "        match_df3 = match_dp_theme(theme, dp)\n",
    "    if i == 3:\n",
    "        match_df4 = match_dp_theme(theme, dp)\n",
    "    print(f'---------Batch-{i} over---------')"
   ]
  },
  {
   "cell_type": "code",
   "execution_count": 7,
   "metadata": {},
   "outputs": [],
   "source": [
    "match_df = pd.concat([match_df1[['head_name', 'start_entity']], match_df2[['head_name', 'start_entity']]], axis=0)\n",
    "match_df.drop_duplicates(inplace=True)"
   ]
  },
  {
   "cell_type": "code",
   "execution_count": 17,
   "metadata": {},
   "outputs": [
    {
     "data": {
      "text/html": [
       "<div>\n",
       "<style scoped>\n",
       "    .dataframe tbody tr th:only-of-type {\n",
       "        vertical-align: middle;\n",
       "    }\n",
       "\n",
       "    .dataframe tbody tr th {\n",
       "        vertical-align: top;\n",
       "    }\n",
       "\n",
       "    .dataframe thead th {\n",
       "        text-align: right;\n",
       "    }\n",
       "</style>\n",
       "<table border=\"1\" class=\"dataframe\">\n",
       "  <thead>\n",
       "    <tr style=\"text-align: right;\">\n",
       "      <th></th>\n",
       "      <th>head_name</th>\n",
       "      <th>start_entity</th>\n",
       "    </tr>\n",
       "  </thead>\n",
       "  <tbody>\n",
       "    <tr>\n",
       "      <th>1761</th>\n",
       "      <td>calcitonin</td>\n",
       "      <td>MESH:D002116</td>\n",
       "    </tr>\n",
       "    <tr>\n",
       "      <th>14904</th>\n",
       "      <td>procalcitonin</td>\n",
       "      <td>MESH:C029100</td>\n",
       "    </tr>\n",
       "    <tr>\n",
       "      <th>23371</th>\n",
       "      <td>Procalcitonin</td>\n",
       "      <td>MESH:C029100</td>\n",
       "    </tr>\n",
       "    <tr>\n",
       "      <th>29249</th>\n",
       "      <td>Calcitonin</td>\n",
       "      <td>MESH:D002116</td>\n",
       "    </tr>\n",
       "    <tr>\n",
       "      <th>29769</th>\n",
       "      <td>Carbocalcitonin</td>\n",
       "      <td>MESH:C012755</td>\n",
       "    </tr>\n",
       "    <tr>\n",
       "      <th>54695</th>\n",
       "      <td>thyrocalcitonin</td>\n",
       "      <td>MESH:D002116</td>\n",
       "    </tr>\n",
       "    <tr>\n",
       "      <th>219290</th>\n",
       "      <td>Thyrocalcitonin</td>\n",
       "      <td>MESH:D002116</td>\n",
       "    </tr>\n",
       "    <tr>\n",
       "      <th>656293</th>\n",
       "      <td>carbocalcitonin</td>\n",
       "      <td>MESH:C012755</td>\n",
       "    </tr>\n",
       "    <tr>\n",
       "      <th>773875</th>\n",
       "      <td>prohormone procalcitonin</td>\n",
       "      <td>MESH:C029100</td>\n",
       "    </tr>\n",
       "    <tr>\n",
       "      <th>822083</th>\n",
       "      <td>preprocalcitonin</td>\n",
       "      <td>MESH:C033183</td>\n",
       "    </tr>\n",
       "    <tr>\n",
       "      <th>1147592</th>\n",
       "      <td>eel-calcitonin</td>\n",
       "      <td>MESH:D002116</td>\n",
       "    </tr>\n",
       "    <tr>\n",
       "      <th>1619460</th>\n",
       "      <td>pro-calcitonin</td>\n",
       "      <td>MESH:C029100</td>\n",
       "    </tr>\n",
       "  </tbody>\n",
       "</table>\n",
       "</div>"
      ],
      "text/plain": [
       "                        head_name  start_entity\n",
       "1761                   calcitonin  MESH:D002116\n",
       "14904               procalcitonin  MESH:C029100\n",
       "23371               Procalcitonin  MESH:C029100\n",
       "29249                  Calcitonin  MESH:D002116\n",
       "29769             Carbocalcitonin  MESH:C012755\n",
       "54695             thyrocalcitonin  MESH:D002116\n",
       "219290            Thyrocalcitonin  MESH:D002116\n",
       "656293            carbocalcitonin  MESH:C012755\n",
       "773875   prohormone procalcitonin  MESH:C029100\n",
       "822083           preprocalcitonin  MESH:C033183\n",
       "1147592            eel-calcitonin  MESH:D002116\n",
       "1619460            pro-calcitonin  MESH:C029100"
      ]
     },
     "execution_count": 17,
     "metadata": {},
     "output_type": "execute_result"
    }
   ],
   "source": [
    "pattern = 'Calcitonin'\n",
    "match_df[match_df['head_name'].str.contains(pattern, case=False, regex=True)]"
   ]
  },
  {
   "cell_type": "code",
   "execution_count": null,
   "metadata": {},
   "outputs": [],
   "source": []
  }
 ],
 "metadata": {
  "kernelspec": {
   "display_name": "BLC",
   "language": "python",
   "name": "python3"
  },
  "language_info": {
   "codemirror_mode": {
    "name": "ipython",
    "version": 3
   },
   "file_extension": ".py",
   "mimetype": "text/x-python",
   "name": "python",
   "nbconvert_exporter": "python",
   "pygments_lexer": "ipython3",
   "version": "3.9.16"
  }
 },
 "nbformat": 4,
 "nbformat_minor": 2
}
