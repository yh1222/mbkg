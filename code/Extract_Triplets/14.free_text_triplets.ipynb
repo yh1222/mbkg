{
 "cells": [
  {
   "cell_type": "code",
   "execution_count": 1,
   "metadata": {},
   "outputs": [],
   "source": [
    "import pandas as pd\n",
    "import numpy as np\n",
    "import pathlib\n",
    "from pathlib import Path"
   ]
  },
  {
   "cell_type": "code",
   "execution_count": 2,
   "metadata": {},
   "outputs": [
    {
     "name": "stdout",
     "output_type": "stream",
     "text": [
      "[WindowsPath('D:/projects/MGKG/data/FreeText/chemical_disease_cluster.csv'), WindowsPath('D:/projects/MGKG/data/FreeText/chemical_gene_cluster.csv'), WindowsPath('D:/projects/MGKG/data/FreeText/gene_disease_cluster.csv'), WindowsPath('D:/projects/MGKG/data/FreeText/gene_gene_cluster.csv')]\n",
      "[WindowsPath('D:/projects/MGKG/data/FreeText/chemical_disease_map.txt'), WindowsPath('D:/projects/MGKG/data/FreeText/chemical_gene_map.txt'), WindowsPath('D:/projects/MGKG/data/FreeText/gene_disease_map.txt'), WindowsPath('D:/projects/MGKG/data/FreeText/gene_gene_map.txt')]\n"
     ]
    }
   ],
   "source": [
    "input_path = 'D:\\projects\\MGKG\\data\\FreeText'\n",
    "cluster_files_path = [file for file in Path(input_path).glob('*_cluster.csv') if Path(file).is_file()]\n",
    "map_files_path = [file for file in Path(input_path).glob('*_map.txt') if Path(file).is_file()]\n",
    "print(cluster_files_path)\n",
    "print(map_files_path)"
   ]
  },
  {
   "cell_type": "code",
   "execution_count": 3,
   "metadata": {},
   "outputs": [],
   "source": [
    "for i in range(4):\n",
    "    cluster_df = pd.read_csv(cluster_files_path[i], sep='\\t', header=0)\n",
    "    map_df = pd.read_table(map_files_path[i], sep='\\t', names=['head_name', 'head_MeSH', 'tail_name', 'tail_MeSH', 'path'])\n",
    "    cluster_df = cluster_df['entity_pair'].str.split('|', expand=True).join(cluster_df['cluster'])\n",
    "    cluster_df.rename(columns={0: 'head_MeSH', 1: 'tail_MeSH'}, inplace=True)\n",
    "    df = pd.merge(cluster_df, map_df, on=['head_MeSH', 'tail_MeSH'])\n",
    "    save_path = Path(str(cluster_files_path[i]).split('_cluster')[0] + '_long.csv')\n",
    "    df.to_csv(save_path, sep='\\t', index=0)"
   ]
  },
  {
   "cell_type": "code",
   "execution_count": 4,
   "metadata": {},
   "outputs": [],
   "source": [
    "# 下面开始手动注释\n",
    "cd_df = pd.read_csv('D:/projects/MGKG/data/FreeText/chemical_disease_long.csv', sep='\\t', header=0)\n",
    "cg_df = pd.read_csv('D:/projects/MGKG/data/FreeText/chemical_gene_long.csv', sep='\\t', header=0)\n",
    "gd_df = pd.read_csv('D:/projects/MGKG/data/FreeText/gene_disease_long.csv', sep='\\t', header=0)\n",
    "gg_df = pd.read_csv('D:/projects/MGKG/data/FreeText/gene_gene_long.csv', sep='\\t', header=0)"
   ]
  },
  {
   "cell_type": "code",
   "execution_count": 5,
   "metadata": {},
   "outputs": [],
   "source": [
    "# chemical_disease_dict\n",
    "cd_df[cd_df['cluster']==6].sample(frac=1).drop_duplicates(subset=['head_MeSH', 'tail_MeSH']).to_csv('D:/projects/MGKG/data/FreeText/display1.csv', sep='\\t', header=0, index=0)"
   ]
  },
  {
   "cell_type": "code",
   "execution_count": 6,
   "metadata": {},
   "outputs": [],
   "source": [
    "# chemical_gene_dict\n",
    "cg_df[cg_df['cluster']==9].sample(frac=1).drop_duplicates(subset=['head_MeSH', 'tail_MeSH']).to_csv('D:/projects/MGKG/data/FreeText/display2.csv', sep='\\t', header=0, index=0)"
   ]
  },
  {
   "cell_type": "code",
   "execution_count": 7,
   "metadata": {},
   "outputs": [],
   "source": [
    "# gene_disease_dict\n",
    "gd_df[gd_df['cluster']==9].sample(frac=1).drop_duplicates(subset=['head_MeSH', 'tail_MeSH']).to_csv('D:/projects/MGKG/data/FreeText/display3.csv', sep='\\t', header=0, index=0)"
   ]
  },
  {
   "cell_type": "code",
   "execution_count": 22,
   "metadata": {},
   "outputs": [],
   "source": [
    "# gene_gene_dict\n",
    "gg_df[gg_df['cluster']==8].sample(frac=1).drop_duplicates(subset=['head_MeSH', 'tail_MeSH']).to_csv('D:/projects/MGKG/data/FreeText/display4.csv', sep='\\t', header=0, index=0)"
   ]
  },
  {
   "cell_type": "code",
   "execution_count": 23,
   "metadata": {},
   "outputs": [],
   "source": [
    "\n",
    "chemical_disease_dict = {0: ['chemical:disease:T', 'chemical:disease:Pr'], 1: ['chemical:disease:T', 'chemical:disease:Pr', 'chemical:disease:Pa'], 2: ['chemical:disease:T'],\n",
    "                         3: ['chemical:disease:T', 'chemical:disease:C'], 4: ['chemical:disease:Sa'], 5: ['chemical:disease:T'], 6: ['chemical:disease:T']}\n",
    "chemical_gene_dict = {0: ['chemical:gene:N'], 1: ['chemical:gene:N'], 2: ['chemical:gene:N'], 3: ['chemical:gene:E+', 'chemical:gene:B'], 4: ['chemical:gene:K'], 5: ['chemical:gene:N'],\n",
    "                      6: ['chemical:gene:E'], 7: ['chemical:gene:N'], 8: ['chemical:gene:A+'], 9: ['chemical:gene:A-']}\n",
    "gene_disease_dict = {0: ['gene:disease:J'], 1: ['gene:disease:J'], 2: ['gene:disease:Y', 'gene:disease:U', 'gene:disease:Te'], 3: ['gene:disease:J'], 4: ['gene:disease:J'],\n",
    "                     5: ['gene:disease:Te'], 6: ['gene:disease:J'], 7: ['gene:disease:Te'], 8: ['gene:disease:L'], 9: ['gene:disease:U']}\n",
    "gene_gene_dict = {0: ['gene:gene:Ad'], 1: ['gene:gene:Ad'], 2: ['gene:gene:Ad'], 3: ['gene:gene:H'], 4: ['gene:gene:Ad'], 5: ['gene:gene:Ad'], 6: ['gene:gene:Rg', 'gene:gene:E'],\n",
    "                  7: ['gene:gene:Ad'], 8: ['gene:gene:E+']}"
   ]
  },
  {
   "cell_type": "code",
   "execution_count": 24,
   "metadata": {},
   "outputs": [
    {
     "data": {
      "text/plain": [
       "[{0: ['chemical:disease:T', 'chemical:disease:Pr'],\n",
       "  1: ['chemical:disease:T', 'chemical:disease:Pr', 'chemical:disease:Pa'],\n",
       "  2: ['chemical:disease:T'],\n",
       "  3: ['chemical:disease:T', 'chemical:disease:C'],\n",
       "  4: ['chemical:disease:Sa'],\n",
       "  5: ['chemical:disease:T'],\n",
       "  6: ['chemical:disease:T']},\n",
       " {0: ['chemical:gene:N'],\n",
       "  1: ['chemical:gene:N'],\n",
       "  2: ['chemical:gene:N'],\n",
       "  3: ['chemical:gene:E+', 'chemical:gene:B'],\n",
       "  4: ['chemical:gene:K'],\n",
       "  5: ['chemical:gene:N'],\n",
       "  6: ['chemical:gene:E'],\n",
       "  7: ['chemical:gene:N'],\n",
       "  8: ['chemical:gene:A+'],\n",
       "  9: ['chemical:gene:A-']},\n",
       " {0: ['gene:disease:J'],\n",
       "  1: ['gene:disease:J'],\n",
       "  2: ['gene:disease:Y', 'gene:disease:U', 'gene:disease:Te'],\n",
       "  3: ['gene:disease:J'],\n",
       "  4: ['gene:disease:J'],\n",
       "  5: ['gene:disease:Te'],\n",
       "  6: ['gene:disease:J'],\n",
       "  7: ['gene:disease:Te'],\n",
       "  8: ['gene:disease:L'],\n",
       "  9: ['gene:disease:U']},\n",
       " {0: ['gene:gene:Ad'],\n",
       "  1: ['gene:gene:Ad'],\n",
       "  2: ['gene:gene:Ad'],\n",
       "  3: ['gene:gene:H'],\n",
       "  4: ['gene:gene:Ad'],\n",
       "  5: ['gene:gene:Ad'],\n",
       "  6: ['gene:gene:Rg', 'gene:gene:E'],\n",
       "  7: ['gene:gene:Ad'],\n",
       "  8: ['gene:gene:E+']}]"
      ]
     },
     "execution_count": 24,
     "metadata": {},
     "output_type": "execute_result"
    }
   ],
   "source": [
    "dicts = [chemical_disease_dict, chemical_gene_dict, gene_disease_dict, gene_gene_dict]\n",
    "dicts"
   ]
  },
  {
   "cell_type": "code",
   "execution_count": 25,
   "metadata": {},
   "outputs": [
    {
     "name": "stdout",
     "output_type": "stream",
     "text": [
      "Load path is: D:\\projects\\MGKG\\data\\FreeText\\chemical_disease_cluster.csv\n",
      "Save path is: D:\\projects\\MGKG\\data\\FreeText\\chemical_disease_triplets.csv\n",
      "Load path is: D:\\projects\\MGKG\\data\\FreeText\\chemical_gene_cluster.csv\n",
      "Save path is: D:\\projects\\MGKG\\data\\FreeText\\chemical_gene_triplets.csv\n",
      "Load path is: D:\\projects\\MGKG\\data\\FreeText\\gene_disease_cluster.csv\n",
      "Save path is: D:\\projects\\MGKG\\data\\FreeText\\gene_disease_triplets.csv\n",
      "Load path is: D:\\projects\\MGKG\\data\\FreeText\\gene_gene_cluster.csv\n",
      "Save path is: D:\\projects\\MGKG\\data\\FreeText\\gene_gene_triplets.csv\n"
     ]
    }
   ],
   "source": [
    "for i in range(4):\n",
    "    print(f'Load path is: {cluster_files_path[i]}')\n",
    "    cluster_df = pd.read_csv(cluster_files_path[i], sep='\\t', header=0)\n",
    "    cluster_df = cluster_df['entity_pair'].str.split('|', expand=True).join(cluster_df['cluster'])\n",
    "    cluster_df.rename(columns={0: 'head', 1: 'tail'}, inplace=True)\n",
    "    if i == 1:\n",
    "        cluster_df['tail'] = 'ENTREZ:' + cluster_df['tail']\n",
    "    if i == 2:\n",
    "        cluster_df['head'] = 'ENTREZ:' + cluster_df['head']\n",
    "    if i == 3:\n",
    "        cluster_df['head'] = 'ENTREZ:' + cluster_df['head']\n",
    "        cluster_df['tail'] = 'ENTREZ:' + cluster_df['tail']\n",
    "    annot_df = pd.DataFrame.from_dict(dicts[i], orient='index').reset_index()\n",
    "    annot_df = pd.DataFrame(annot_df['index']).join(annot_df.drop('index', axis=1).stack().reset_index(level=1, drop=True).rename('relation'))\n",
    "    match_df = pd.merge(cluster_df, annot_df, left_on='cluster', right_on='index')\n",
    "    match_df.drop(['cluster', 'index'], axis=1, inplace=True)\n",
    "    match_df = match_df[['head', 'relation', 'tail']]\n",
    "    save_path = Path(str(cluster_files_path[i]).split('_cluster')[0] + '_triplets.csv')\n",
    "    print(f'Save path is: {save_path}')\n",
    "    match_df.to_csv(save_path, sep='\\t', header=0, index=0)"
   ]
  },
  {
   "cell_type": "code",
   "execution_count": 26,
   "metadata": {},
   "outputs": [],
   "source": [
    "# 为方便管理，将最后的三元组文件移动到新目录：results"
   ]
  },
  {
   "cell_type": "code",
   "execution_count": null,
   "metadata": {},
   "outputs": [],
   "source": []
  }
 ],
 "metadata": {
  "kernelspec": {
   "display_name": "NSRE",
   "language": "python",
   "name": "python3"
  },
  "language_info": {
   "codemirror_mode": {
    "name": "ipython",
    "version": 3
   },
   "file_extension": ".py",
   "mimetype": "text/x-python",
   "name": "python",
   "nbconvert_exporter": "python",
   "pygments_lexer": "ipython3",
   "version": "3.9.15"
  },
  "orig_nbformat": 4,
  "vscode": {
   "interpreter": {
    "hash": "925100e3cf76f2f4260f660b97226209ffff59120aeb2de6c49ceff5dc2089b6"
   }
  }
 },
 "nbformat": 4,
 "nbformat_minor": 2
}
