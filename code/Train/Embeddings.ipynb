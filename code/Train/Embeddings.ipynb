{
 "cells": [
  {
   "cell_type": "code",
   "execution_count": 1,
   "metadata": {},
   "outputs": [
    {
     "data": {
      "text/plain": [
       "(3395273, 3)"
      ]
     },
     "execution_count": 1,
     "metadata": {},
     "output_type": "execute_result"
    }
   ],
   "source": [
    "import pandas as pd\n",
    "import numpy as np\n",
    "\n",
    "df = pd.read_csv('D:/projects/MGKG/data/total_triplets.csv', header=None, sep='\\t', names=['head', 'relation', 'tail'])\n",
    "df.shape"
   ]
  },
  {
   "attachments": {},
   "cell_type": "markdown",
   "metadata": {},
   "source": [
    "### 删除df中关系数量少于20的三元组， 数量太少在知识图谱中没啥用，且影响训练集、验证集、测试集的分割"
   ]
  },
  {
   "cell_type": "code",
   "execution_count": 2,
   "metadata": {},
   "outputs": [],
   "source": [
    "def omit(df):\n",
    "    idx = list(df.index)\n",
    "    if len(idx) < 20:\n",
    "        return(idx)"
   ]
  },
  {
   "cell_type": "code",
   "execution_count": 3,
   "metadata": {},
   "outputs": [
    {
     "name": "stdout",
     "output_type": "stream",
     "text": [
      "120\n",
      "(3395153, 3)\n"
     ]
    }
   ],
   "source": [
    "group_df = df.groupby('relation')\n",
    "omit_idx = group_df.apply(omit)\n",
    "omit_index = []\n",
    "\n",
    "for i in omit_idx.dropna():\n",
    "    omit_index.extend(i)\n",
    "print(len(omit_index))\n",
    "\n",
    "df.drop(omit_index, inplace=True)\n",
    "df.reset_index(drop=True, inplace=True)\n",
    "print(df.shape)\n",
    "group_df = df.groupby('relation')"
   ]
  },
  {
   "attachments": {},
   "cell_type": "markdown",
   "metadata": {},
   "source": [
    "### 分割训练集、验证集、测试集"
   ]
  },
  {
   "cell_type": "code",
   "execution_count": 4,
   "metadata": {},
   "outputs": [],
   "source": [
    "import math\n",
    "np.random.seed(99)\n",
    "\n",
    "\n",
    "def split_ttv(df):\n",
    "    train_len = math.floor(df.shape[0] * 0.9)\n",
    "    test_len = math.ceil(df.shape[0] * 0.05)\n",
    "    # valid_len = math.ceil(df.shape[0] * 0.05)\n",
    "    idx = list(df.index)\n",
    "    np.random.shuffle(idx)\n",
    "    train_idx = idx[: train_len]\n",
    "    test_idx = idx[train_len: train_len + test_len]\n",
    "    valid_idx = idx[train_len + test_len:]\n",
    "    return [train_idx, test_idx, valid_idx]"
   ]
  },
  {
   "cell_type": "code",
   "execution_count": 5,
   "metadata": {},
   "outputs": [
    {
     "name": "stdout",
     "output_type": "stream",
     "text": [
      "3055616 169777 169760\n"
     ]
    }
   ],
   "source": [
    "tvt_idx = group_df.apply(split_ttv)\n",
    "train_index = []\n",
    "test_index = []\n",
    "valid_index = []\n",
    "for i in tvt_idx:\n",
    "    train_index.extend(i[0])\n",
    "    test_index.extend(i[1])\n",
    "    valid_index.extend(i[2])\n",
    "print(len(train_index), len(test_index), len(valid_index))"
   ]
  },
  {
   "cell_type": "code",
   "execution_count": 6,
   "metadata": {},
   "outputs": [],
   "source": [
    "train_df = df.iloc[train_index, :]\n",
    "test_df = df.iloc[test_index, :]\n",
    "valid_df = df.iloc[valid_index, :]\n",
    "\n",
    "# Save\n",
    "train_df.to_csv('./mgkg_train.csv', sep='\\t', header=0, index=0)\n",
    "test_df.to_csv('./mgkg_test.csv', sep='\\t', header=0, index=0)\n",
    "valid_df.to_csv('./mgkg_valid.csv', sep='\\t', header=0, index=0)"
   ]
  },
  {
   "attachments": {},
   "cell_type": "markdown",
   "metadata": {},
   "source": [
    "### 知识图谱嵌入（KGE）训练"
   ]
  },
  {
   "cell_type": "code",
   "execution_count": null,
   "metadata": {},
   "outputs": [],
   "source": [
    "# Linux命令行\n",
    "# TransR Model\n",
    "!DGLBACKEND=pytorch dglke_train --dataset MGKG --data_path ./Train --data_files mgkg_train.csv mgkg_valid.csv mgkg_test.csv --format 'raw_udd_hrt' --model_name TransR --batch_size 2048 --neg_sample_size 256 --hidden_dim 400 --gamma 12.0 --lr 0.1 --max_step 100000 --log_interval 1000 --batch_size_eval 16 -adv --regularization_coef 1.00E-07 --test --num_thread 1 --gpu 0 --neg_sample_size_eval 10000\n",
    "\n",
    "# TransE_l2 Model\n",
    "!DGLBACKEND=pytorch dglke_train --dataset MGKG --data_path ./Train --data_files mgkg_train.csv mgkg_valid.csv mgkg_test.csv --format 'raw_udd_hrt' --model_name TransE_l2 --batch_size 2048 --neg_sample_size 256 --hidden_dim 400 --gamma 12.0 --lr 0.1 --max_step 100000 --log_interval 1000 --batch_size_eval 16 -adv --regularization_coef 1.00E-07 --test --num_thread 1 --gpu 0 --neg_sample_size_eval 10000"
   ]
  }
 ],
 "metadata": {
  "kernelspec": {
   "display_name": "BLC",
   "language": "python",
   "name": "python3"
  },
  "language_info": {
   "codemirror_mode": {
    "name": "ipython",
    "version": 3
   },
   "file_extension": ".py",
   "mimetype": "text/x-python",
   "name": "python",
   "nbconvert_exporter": "python",
   "pygments_lexer": "ipython3",
   "version": "3.9.16"
  },
  "orig_nbformat": 4
 },
 "nbformat": 4,
 "nbformat_minor": 2
}
